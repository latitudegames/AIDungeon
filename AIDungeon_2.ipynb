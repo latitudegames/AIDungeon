{
  "nbformat": 4,
  "nbformat_minor": 0,
  "metadata": {
    "colab": {
      "name": "AIDungeon 2.ipynb",
      "provenance": []
    },
    "kernelspec": {
      "name": "python3",
      "display_name": "Python 3"
    },
    "accelerator": "GPU"
  },
  "cells": [
    {
      "cell_type": "markdown",
      "metadata": {
        "id": "7dRi_BDWErNf",
        "colab_type": "text"
      },
      "source": [
        "![BYU PCCL](https://pcc4318.files.wordpress.com/2018/02/asset-1.png?w=150)\n",
        "\n",
        "Sponsored by the BYU PCCL Lab.\n",
        "\n",
        "AI Dungeon 2 is a completely AI generated text adventure built with OpenAI's largest GPT-2 model. It's a first of it's kind game that allows you to enter and will react to any action you can imagine.\n",
        "\n",
        "# Main mirrors of AI Dungeon 2 are currently down due to high download costs.\n",
        "We are using bittorrent as a temporary solution to host game files and keep this game alive. It's not fast, but it's the best we've got right now.\n",
        "If you want to help, best thing you can do is to [download this torrent file with game files](https://github.com/nickwalton/AIDungeon/files/3935881/model_v5.torrent.zip) and **seed it** indefinitely to the best of your ability to help new players download and discover this magnificent game.\n",
        "- <a href=\"https://twitter.com/nickwalton00?ref_src=twsrc%5Etfw\" class=\"twitter-follow-button\" data-show-count=\"false\">Follow @nickwalton00</a> on twitter for updates on when it will be available again.\n",
        "- [Patreon post about future plans](https://www.patreon.com/posts/update-32193930)\n",
        "\n",
        "## How to play\n",
        "1. Click \"Tools\"-> \"Settings...\" -> \"Theme\" -> \"Dark\" (optional but recommended)\n",
        "2. Click \"Runtime\" -> \"Run all\"\n",
        "3. Wait until all files are downloaded (only has to be one once, and it will take some time)\n",
        "4. It will then take a couple minutes to boot up as the model is downloaded loaded onto the GPU. \n",
        "\n",
        "## About\n",
        "* While you wait you can [read adventures others have had](https://aidungeon.io/)\n",
        "* [Read more](https://pcc.cs.byu.edu/2019/11/21/ai-dungeon-2-creating-infinitely-generated-text-adventures-with-deep-learning-language-models/) about how AI Dungeon 2 is made.\n",
        "\n",
        "* Please [support AI Dungeon 2](https://www.patreon.com/join/AIDungeon/) to help get it back up."
      ]
    },
    {
      "cell_type": "code",
      "metadata": {
        "id": "FKqlSCrpS9dH",
        "colab_type": "code",
        "colab": {}
      },
      "source": [
        "!git clone --depth 1 --branch master https://github.com/nickwalton/AIDungeon/\n",
        "%cd AIDungeon\n",
        "!./install.sh\n",
        "from IPython.display import clear_output \n",
        "clear_output()\n",
        "print(\"Download Complete!\")"
      ],
      "execution_count": 0,
      "outputs": []
    },
    {
      "cell_type": "code",
      "metadata": {
        "id": "YjArwbWh6XwN",
        "colab_type": "code",
        "colab": {}
      },
      "source": [
        "from IPython.display import Javascript\n",
        "display(Javascript('''google.colab.output.setIframeHeight(0, true, {maxHeight: 5000})'''))\n",
        "!python play.py"
      ],
      "execution_count": 0,
      "outputs": []
    }
  ]
}
